{
  "cells": [
    {
      "cell_type": "markdown",
      "metadata": {
        "id": "view-in-github",
        "colab_type": "text"
      },
      "source": [
        "<a href=\"https://colab.research.google.com/github/harshgitthub/Adversarial-machine-learning/blob/main/Welcome_To_Colab.ipynb\" target=\"_parent\"><img src=\"https://colab.research.google.com/assets/colab-badge.svg\" alt=\"Open In Colab\"/></a>"
      ]
    },
    {
      "cell_type": "code",
      "source": [
        "# ╔═══ Colab Cell 1 ══════════════════════════════════════════════════╗\n",
        "# If you're on Colab, switch to GPU: Runtime → Change runtime type → GPU\n",
        "!nvidia-smi -L || echo \"No GPU found – switch the runtime to GPU!\"\n",
        "\n",
        "# Install helper tools\n",
        "!pip -q install --upgrade pip\n"
      ],
      "metadata": {
        "colab": {
          "base_uri": "https://localhost:8080/"
        },
        "id": "so-L6HzjsdDC",
        "outputId": "c650bfc3-bbf1-4ec0-a438-26955800bac6"
      },
      "execution_count": 14,
      "outputs": [
        {
          "output_type": "stream",
          "name": "stdout",
          "text": [
            "GPU 0: Tesla T4 (UUID: GPU-836903c1-b042-272b-e3b2-b6b6856cba37)\n"
          ]
        }
      ]
    },
    {
      "cell_type": "code",
      "source": [
        "# ╔═══ Colab Cell 2 ══════════════════════════════════════════════════╗\n",
        "!git clone https://github.com/jiawangbai/Versatile-Weight-Attack.git\n",
        "%cd Versatile-Weight-Attack\n"
      ],
      "metadata": {
        "colab": {
          "base_uri": "https://localhost:8080/"
        },
        "id": "yVZbogOisdMJ",
        "outputId": "fa8b9320-74a4-490c-ec21-df6525323752"
      },
      "execution_count": 15,
      "outputs": [
        {
          "output_type": "stream",
          "name": "stdout",
          "text": [
            "Cloning into 'Versatile-Weight-Attack'...\n",
            "remote: Enumerating objects: 129, done.\u001b[K\n",
            "remote: Counting objects: 100% (41/41), done.\u001b[K\n",
            "remote: Compressing objects: 100% (31/31), done.\u001b[K\n",
            "remote: Total 129 (delta 17), reused 6 (delta 6), pack-reused 88 (from 1)\u001b[K\n",
            "Receiving objects: 100% (129/129), 1.99 MiB | 25.47 MiB/s, done.\n",
            "Resolving deltas: 100% (47/47), done.\n",
            "/content/Versatile-Weight-Attack/single_sample_attack/Versatile-Weight-Attack\n"
          ]
        }
      ]
    },
    {
      "cell_type": "code",
      "source": [
        "# ╔═══ Colab Cell 3 ══════════════════════════════════════════════════╗\n",
        "!pip install -q torch==2.2.2 torchvision==0.17.2  \\\n",
        "               bitstring==3.1.7 numpy\n"
      ],
      "metadata": {
        "id": "igZEyoQQsdPB"
      },
      "execution_count": 16,
      "outputs": []
    },
    {
      "cell_type": "code",
      "source": [
        "# ╔═══ Colab Cell 4 ══════════════════════════════════════════════════╗\n",
        "# Download CIFAR-10 into /content/data\n",
        "import torchvision, os\n",
        "data_root = \"/content/data\"\n",
        "_ = torchvision.datasets.CIFAR10(root=data_root, train=False, download=True)\n",
        "\n",
        "# Patch config.py so cifar_root = \"/content/data\"\n",
        "import fileinput, re, textwrap, pathlib, sys\n",
        "cfg_path = pathlib.Path(\"config.py\")\n",
        "text = cfg_path.read_text()\n",
        "text = re.sub(r'cifar_root\\s*=.*',\n",
        "              f'cifar_root = \"{data_root}\"  # auto-patched in Colab',\n",
        "              text)\n",
        "cfg_path.write_text(text)\n",
        "print(\"config.py updated ↩\")\n"
      ],
      "metadata": {
        "colab": {
          "base_uri": "https://localhost:8080/"
        },
        "id": "VxSuIqoSsdSD",
        "outputId": "fe26c1c2-cfef-435f-8d0a-0e95bacdad62"
      },
      "execution_count": 17,
      "outputs": [
        {
          "output_type": "stream",
          "name": "stdout",
          "text": [
            "config.py updated ↩\n"
          ]
        }
      ]
    },
    {
      "cell_type": "code",
      "source": [
        "%cd single_sample_attack\n"
      ],
      "metadata": {
        "colab": {
          "base_uri": "https://localhost:8080/"
        },
        "id": "PIIUVNFrsdVC",
        "outputId": "2b261d28-9fcc-46d3-8aac-05acbfd77575"
      },
      "execution_count": 18,
      "outputs": [
        {
          "output_type": "stream",
          "name": "stdout",
          "text": [
            "/content/Versatile-Weight-Attack/single_sample_attack/Versatile-Weight-Attack/single_sample_attack\n"
          ]
        }
      ]
    },
    {
      "cell_type": "code",
      "source": [
        "!python SSA.py --target-class 0 --attack-idx 3676 --lam 100 --k 5"
      ],
      "metadata": {
        "colab": {
          "base_uri": "https://localhost:8080/"
        },
        "id": "mdpTC61eulpa",
        "outputId": "75b294de-9f61-4ec2-9677-eefe689907d6"
      },
      "execution_count": 19,
      "outputs": [
        {
          "output_type": "stream",
          "name": "stdout",
          "text": [
            "Traceback (most recent call last):\n",
            "  File \"/content/Versatile-Weight-Attack/single_sample_attack/Versatile-Weight-Attack/single_sample_attack/SSA.py\", line 7, in <module>\n",
            "    from single_sample_attack.utils import *\n",
            "ModuleNotFoundError: No module named 'single_sample_attack'\n"
          ]
        }
      ]
    },
    {
      "cell_type": "code",
      "source": [
        "# Colab Python Cell\n",
        "import sys, pathlib, os\n",
        "root = pathlib.Path('/content/Versatile-Weight-Attack').resolve()\n",
        "if str(root) not in sys.path:\n",
        "    sys.path.insert(0, str(root))\n",
        "os.environ['PYTHONPATH'] = f\"{root}:{os.environ.get('PYTHONPATH','')}\"\n"
      ],
      "metadata": {
        "id": "zgl4HsgywrlG"
      },
      "execution_count": 23,
      "outputs": []
    },
    {
      "cell_type": "code",
      "source": [
        "!python /content/Versatile-Weight-Attack/single_sample_attack/SSA.py\n"
      ],
      "metadata": {
        "colab": {
          "base_uri": "https://localhost:8080/"
        },
        "id": "_UOj5NYXw5hP",
        "outputId": "ac8a883e-fbde-44b2-fe5b-fe4bec17adba"
      },
      "execution_count": 25,
      "outputs": [
        {
          "output_type": "stream",
          "name": "stdout",
          "text": [
            "\n",
            "A module that was compiled using NumPy 1.x cannot be run in\n",
            "NumPy 2.0.2 as it may crash. To support both 1.x and 2.x\n",
            "versions of NumPy, modules must be compiled with NumPy 2.0.\n",
            "Some module may need to rebuild instead e.g. with 'pybind11>=2.12'.\n",
            "\n",
            "If you are a user of the module, the easiest solution will be to\n",
            "downgrade to 'numpy<2' or try to upgrade the affected module.\n",
            "We expect that some modules will need time to support NumPy 2.\n",
            "\n",
            "Traceback (most recent call last):  File \"/content/Versatile-Weight-Attack/single_sample_attack/SSA.py\", line 7, in <module>\n",
            "    from single_sample_attack.utils import *\n",
            "  File \"/content/Versatile-Weight-Attack/single_sample_attack/utils.py\", line 8, in <module>\n",
            "    import torch.utils.data\n",
            "  File \"/usr/local/lib/python3.11/dist-packages/torch/__init__.py\", line 1477, in <module>\n",
            "    from .functional import *  # noqa: F403\n",
            "  File \"/usr/local/lib/python3.11/dist-packages/torch/functional.py\", line 9, in <module>\n",
            "    import torch.nn.functional as F\n",
            "  File \"/usr/local/lib/python3.11/dist-packages/torch/nn/__init__.py\", line 1, in <module>\n",
            "    from .modules import *  # noqa: F403\n",
            "  File \"/usr/local/lib/python3.11/dist-packages/torch/nn/modules/__init__.py\", line 35, in <module>\n",
            "    from .transformer import TransformerEncoder, TransformerDecoder, \\\n",
            "  File \"/usr/local/lib/python3.11/dist-packages/torch/nn/modules/transformer.py\", line 20, in <module>\n",
            "    device: torch.device = torch.device(torch._C._get_default_device()),  # torch.device('cpu'),\n",
            "Namespace(gpu_id='0', attack_idx=9490, target_class=0, lam1=1, lam2=100, k=5, n_aux=128, margin=10, max_search_k=4, max_search_lam=8, ext_max_iters=2000, inn_max_iters=5, initial_rho1=0.0001, initial_rho2=0.0001, initial_rho3=1e-05, max_rho1=50, max_rho2=50, max_rho3=5, rho_fact=1.01, inn_lr=0.001, stop_threshold=0.0001, projection_lp=2)\n",
            "Prepare data ... \n",
            "Traceback (most recent call last):\n",
            "  File \"/content/Versatile-Weight-Attack/single_sample_attack/SSA.py\", line 290, in <module>\n",
            "    main()\n",
            "  File \"/content/Versatile-Weight-Attack/single_sample_attack/SSA.py\", line 258, in main\n",
            "    weight, bias, step_size = load_model(arch, bit_length)\n",
            "                              ^^^^^^^^^^^^^^^^^^^^^^^^^^^^\n",
            "  File \"/content/Versatile-Weight-Attack/single_sample_attack/utils.py\", line 25, in load_model\n",
            "    model.load_state_dict(torch.load(os.path.join(model_path, \"model.th\"))[\"state_dict\"])\n",
            "                          ^^^^^^^^^^^^^^^^^^^^^^^^^^^^^^^^^^^^^^^^^^^^^^^^\n",
            "  File \"/usr/local/lib/python3.11/dist-packages/torch/serialization.py\", line 998, in load\n",
            "    with _open_file_like(f, 'rb') as opened_file:\n",
            "         ^^^^^^^^^^^^^^^^^^^^^^^^\n",
            "  File \"/usr/local/lib/python3.11/dist-packages/torch/serialization.py\", line 445, in _open_file_like\n",
            "    return _open_file(name_or_buffer, mode)\n",
            "           ^^^^^^^^^^^^^^^^^^^^^^^^^^^^^^^^\n",
            "  File \"/usr/local/lib/python3.11/dist-packages/torch/serialization.py\", line 426, in __init__\n",
            "    super().__init__(open(name, mode))\n",
            "                     ^^^^^^^^^^^^^^^^\n",
            "FileNotFoundError: [Errno 2] No such file or directory: '../cifar_resnet_quan_8/model.th'\n"
          ]
        }
      ]
    },
    {
      "cell_type": "code",
      "source": [
        "!pip install \"numpy<2\" --quiet\n"
      ],
      "metadata": {
        "id": "cCeEaU-7xOya"
      },
      "execution_count": 31,
      "outputs": []
    },
    {
      "cell_type": "code",
      "source": [
        "!ls ./cifar_resnet_quan_8/"
      ],
      "metadata": {
        "colab": {
          "base_uri": "https://localhost:8080/"
        },
        "id": "zzFUZfH2x0kO",
        "outputId": "aa0e4c6e-3c80-44b4-d479-2ef5c892ae1f"
      },
      "execution_count": 33,
      "outputs": [
        {
          "output_type": "stream",
          "name": "stdout",
          "text": [
            "model.th\n"
          ]
        }
      ]
    },
    {
      "cell_type": "code",
      "source": [
        "model_path = \"./cifar_resnet_quan_8\"\n"
      ],
      "metadata": {
        "id": "jha1H-naycgQ"
      },
      "execution_count": 34,
      "outputs": []
    },
    {
      "cell_type": "code",
      "source": [
        "! python -m single_sample_attack.SSA \\\n",
        "       --gpu-id 0 \\\n",
        "       --attack-idx 3676 \\\n",
        "       --target-class 0 \\\n",
        "       --lam1 1 \\\n",
        "       --lam2 100 \\\n",
        "       --k 5"
      ],
      "metadata": {
        "colab": {
          "base_uri": "https://localhost:8080/"
        },
        "id": "LVKmeSenyfd_",
        "outputId": "d2503bce-694e-4c2d-8944-561985ae9e2c"
      },
      "execution_count": 51,
      "outputs": [
        {
          "output_type": "stream",
          "name": "stdout",
          "text": [
            "Namespace(gpu_id='0', attack_idx=3676, target_class=0, lam1=1.0, lam2=100.0, k=5.0, n_aux=128, margin=10, max_search_k=4, max_search_lam=8, ext_max_iters=2000, inn_max_iters=5, initial_rho1=0.0001, initial_rho2=0.0001, initial_rho3=1e-05, max_rho1=50, max_rho2=50, max_rho3=5, rho_fact=1.01, inn_lr=0.001, stop_threshold=0.0001, projection_lp=2)\n",
            "Prepare data ... \n",
            "Attack Start\n",
            "iter: 0, stop_threshold: 0.003945, loss: 62.4751\n",
            "iter: 50, stop_threshold: 0.058324, loss: 46.2237\n",
            "iter: 100, stop_threshold: 0.099718, loss: 38.0037\n",
            "iter: 150, stop_threshold: 0.118045, loss: 35.9325\n",
            "iter: 200, stop_threshold: 0.123751, loss: 36.1985\n",
            "iter: 250, stop_threshold: 0.124977, loss: 37.1472\n",
            "iter: 300, stop_threshold: 0.121872, loss: 38.7638\n",
            "iter: 350, stop_threshold: 0.114558, loss: 41.0178\n",
            "iter: 400, stop_threshold: 0.104005, loss: 43.7672\n",
            "iter: 450, stop_threshold: 0.091543, loss: 46.9453\n",
            "iter: 500, stop_threshold: 0.072623, loss: 49.6878\n",
            "iter: 550, stop_threshold: 0.046956, loss: 50.1923\n",
            "iter: 600, stop_threshold: 0.024596, loss: 49.9657\n",
            "iter: 650, stop_threshold: 0.019251, loss: 49.7777\n",
            "iter: 700, stop_threshold: 0.023405, loss: 49.6118\n",
            "iter: 750, stop_threshold: 0.427064, loss: 46.5362\n",
            "iter: 800, stop_threshold: 0.029444, loss: 50.5495\n",
            "iter: 850, stop_threshold: 0.046905, loss: 50.8412\n",
            "iter: 900, stop_threshold: 0.179862, loss: 47.7936\n",
            "iter: 950, stop_threshold: 0.058061, loss: 52.8095\n",
            "iter: 1000, stop_threshold: 0.074060, loss: 53.0230\n",
            "iter: 1050, stop_threshold: 0.028306, loss: 55.2470\n",
            "iter: 1100, stop_threshold: 0.003203, loss: 55.9755\n",
            "iter: 1150, stop_threshold: 0.001830, loss: 55.9143\n",
            "iter: 1200, stop_threshold: 0.001117, loss: 55.6205\n",
            "iter: 1250, stop_threshold: 0.000561, loss: 55.4789\n",
            "iter: 1300, stop_threshold: 0.000357, loss: 55.5817\n",
            "iter: 1350, stop_threshold: 0.000263, loss: 55.2457\n",
            "iter: 1400, stop_threshold: 0.000108, loss: 54.6522\n",
            "END iter: 1403, stop_threshold: 0.000095, loss: 54.6025\n",
            "END Original_ACC:92.1600 PA_ACC:90.6696 Success:True N_flip:5.0000\n"
          ]
        }
      ]
    },
    {
      "cell_type": "code",
      "source": [],
      "metadata": {
        "id": "zF8vMs792qai"
      },
      "execution_count": null,
      "outputs": []
    },
    {
      "cell_type": "code",
      "source": [
        "!python -m single_sample_attack.SSA --target-class 0 --attack-idx 3676 --lam2 100 --k 5\n"
      ],
      "metadata": {
        "colab": {
          "base_uri": "https://localhost:8080/"
        },
        "id": "rbrRPzeaytxf",
        "outputId": "2708cc8e-68de-4eb1-c60d-82daf94721a1"
      },
      "execution_count": 45,
      "outputs": [
        {
          "output_type": "stream",
          "name": "stdout",
          "text": [
            "Namespace(gpu_id='0', attack_idx=3676, target_class=0, lam1=1, lam2=100.0, k=5.0, n_aux=128, margin=10, max_search_k=4, max_search_lam=8, ext_max_iters=2000, inn_max_iters=5, initial_rho1=0.0001, initial_rho2=0.0001, initial_rho3=1e-05, max_rho1=50, max_rho2=50, max_rho3=5, rho_fact=1.01, inn_lr=0.001, stop_threshold=0.0001, projection_lp=2)\n",
            "Prepare data ... \n",
            "Traceback (most recent call last):\n",
            "  File \"<frozen runpy>\", line 198, in _run_module_as_main\n",
            "  File \"<frozen runpy>\", line 88, in _run_code\n",
            "  File \"/content/Versatile-Weight-Attack/single_sample_attack/SSA.py\", line 290, in <module>\n",
            "    main()\n",
            "  File \"/content/Versatile-Weight-Attack/single_sample_attack/SSA.py\", line 258, in main\n",
            "    weight, bias, step_size = load_model(arch, bit_length)\n",
            "                              ^^^^^^^^^^^^^^^^^^^^^^^^^^^^\n",
            "  File \"/content/Versatile-Weight-Attack/single_sample_attack/utils.py\", line 25, in load_model\n",
            "    model.load_state_dict(torch.load(os.path.join(model_path, \"model.th\"))[\"state_dict\"])\n",
            "  File \"/usr/local/lib/python3.11/dist-packages/torch/nn/modules/module.py\", line 2153, in load_state_dict\n",
            "    raise RuntimeError('Error(s) in loading state_dict for {}:\\n\\t{}'.format(\n",
            "RuntimeError: Error(s) in loading state_dict for DataParallel:\n",
            "\tMissing key(s) in state_dict: \"module.conv1.step_size\", \"module.conv1.b_w\", \"module.layer1.0.conv1.step_size\", \"module.layer1.0.conv1.b_w\", \"module.layer1.0.conv2.step_size\", \"module.layer1.0.conv2.b_w\", \"module.layer1.1.conv1.step_size\", \"module.layer1.1.conv1.b_w\", \"module.layer1.1.conv2.step_size\", \"module.layer1.1.conv2.b_w\", \"module.layer1.2.conv1.step_size\", \"module.layer1.2.conv1.b_w\", \"module.layer1.2.conv2.step_size\", \"module.layer1.2.conv2.b_w\", \"module.layer2.0.conv1.step_size\", \"module.layer2.0.conv1.b_w\", \"module.layer2.0.conv2.step_size\", \"module.layer2.0.conv2.b_w\", \"module.layer2.1.conv1.step_size\", \"module.layer2.1.conv1.b_w\", \"module.layer2.1.conv2.step_size\", \"module.layer2.1.conv2.b_w\", \"module.layer2.2.conv1.step_size\", \"module.layer2.2.conv1.b_w\", \"module.layer2.2.conv2.step_size\", \"module.layer2.2.conv2.b_w\", \"module.layer3.0.conv1.step_size\", \"module.layer3.0.conv1.b_w\", \"module.layer3.0.conv2.step_size\", \"module.layer3.0.conv2.b_w\", \"module.layer3.1.conv1.step_size\", \"module.layer3.1.conv1.b_w\", \"module.layer3.1.conv2.step_size\", \"module.layer3.1.conv2.b_w\", \"module.layer3.2.conv1.step_size\", \"module.layer3.2.conv1.b_w\", \"module.layer3.2.conv2.step_size\", \"module.layer3.2.conv2.b_w\", \"module.linear.step_size\", \"module.linear.b_w\". \n"
          ]
        }
      ]
    },
    {
      "cell_type": "code",
      "source": [
        "!ls -lh ./cifar_resnet_quan_8/model.th"
      ],
      "metadata": {
        "colab": {
          "base_uri": "https://localhost:8080/"
        },
        "id": "i7_ffGWlzxHQ",
        "outputId": "6985f6f0-43c5-4cf3-a3ef-7b38e6981e1f"
      },
      "execution_count": 48,
      "outputs": [
        {
          "output_type": "stream",
          "name": "stdout",
          "text": [
            "-rw-r--r-- 1 root root 1.1M May 17 10:39 ./cifar_resnet_quan_8/model.th\n"
          ]
        }
      ]
    },
    {
      "cell_type": "code",
      "source": [
        "!ls ./cifar_resnet_float/"
      ],
      "metadata": {
        "colab": {
          "base_uri": "https://localhost:8080/"
        },
        "id": "oVjPAJVvzhOo",
        "outputId": "6e421979-2d68-415b-ba94-7852d29afbf9"
      },
      "execution_count": 42,
      "outputs": [
        {
          "output_type": "stream",
          "name": "stdout",
          "text": [
            "model.th\n"
          ]
        }
      ]
    },
    {
      "cell_type": "code",
      "source": [],
      "metadata": {
        "id": "UIcTs1XB2r1p"
      },
      "execution_count": 65,
      "outputs": []
    },
    {
      "cell_type": "code",
      "source": [],
      "metadata": {
        "id": "2EyC9bum2r-f"
      },
      "execution_count": 65,
      "outputs": []
    },
    {
      "cell_type": "code",
      "source": [],
      "metadata": {
        "id": "EwropDfN57bh"
      },
      "execution_count": 65,
      "outputs": []
    },
    {
      "cell_type": "code",
      "source": [],
      "metadata": {
        "id": "UbbjKAvQ4jiz"
      },
      "execution_count": 65,
      "outputs": []
    },
    {
      "cell_type": "code",
      "source": [],
      "metadata": {
        "id": "UPZFxbS173GM"
      },
      "execution_count": 63,
      "outputs": []
    },
    {
      "cell_type": "code",
      "source": [
        "import shutil\n",
        "shutil.make_archive('/content/Versatile-Weight-Attack', 'zip', '/content/Versatile-Weight-Attack')\n"
      ],
      "metadata": {
        "colab": {
          "base_uri": "https://localhost:8080/",
          "height": 35
        },
        "id": "T8ibJE3h8gci",
        "outputId": "b7b0544d-dee1-45b3-f5ad-1a94d1f9c77e"
      },
      "execution_count": 62,
      "outputs": [
        {
          "output_type": "execute_result",
          "data": {
            "text/plain": [
              "'/content/Versatile-Weight-Attack.zip'"
            ],
            "application/vnd.google.colaboratory.intrinsic+json": {
              "type": "string"
            }
          },
          "metadata": {},
          "execution_count": 62
        }
      ]
    },
    {
      "cell_type": "code",
      "source": [
        "from google.colab import files\n",
        "files.download('/content/Versatile-Weight-Attack.zip')\n"
      ],
      "metadata": {
        "colab": {
          "base_uri": "https://localhost:8080/",
          "height": 17
        },
        "id": "24GHbAuN8goB",
        "outputId": "d909ab7d-47aa-43fb-9cc3-2ca7b5df14f9"
      },
      "execution_count": 63,
      "outputs": [
        {
          "output_type": "display_data",
          "data": {
            "text/plain": [
              "<IPython.core.display.Javascript object>"
            ],
            "application/javascript": [
              "\n",
              "    async function download(id, filename, size) {\n",
              "      if (!google.colab.kernel.accessAllowed) {\n",
              "        return;\n",
              "      }\n",
              "      const div = document.createElement('div');\n",
              "      const label = document.createElement('label');\n",
              "      label.textContent = `Downloading \"${filename}\": `;\n",
              "      div.appendChild(label);\n",
              "      const progress = document.createElement('progress');\n",
              "      progress.max = size;\n",
              "      div.appendChild(progress);\n",
              "      document.body.appendChild(div);\n",
              "\n",
              "      const buffers = [];\n",
              "      let downloaded = 0;\n",
              "\n",
              "      const channel = await google.colab.kernel.comms.open(id);\n",
              "      // Send a message to notify the kernel that we're ready.\n",
              "      channel.send({})\n",
              "\n",
              "      for await (const message of channel.messages) {\n",
              "        // Send a message to notify the kernel that we're ready.\n",
              "        channel.send({})\n",
              "        if (message.buffers) {\n",
              "          for (const buffer of message.buffers) {\n",
              "            buffers.push(buffer);\n",
              "            downloaded += buffer.byteLength;\n",
              "            progress.value = downloaded;\n",
              "          }\n",
              "        }\n",
              "      }\n",
              "      const blob = new Blob(buffers, {type: 'application/binary'});\n",
              "      const a = document.createElement('a');\n",
              "      a.href = window.URL.createObjectURL(blob);\n",
              "      a.download = filename;\n",
              "      div.appendChild(a);\n",
              "      a.click();\n",
              "      div.remove();\n",
              "    }\n",
              "  "
            ]
          },
          "metadata": {}
        },
        {
          "output_type": "display_data",
          "data": {
            "text/plain": [
              "<IPython.core.display.Javascript object>"
            ],
            "application/javascript": [
              "download(\"download_245d07b5-c2f7-48dd-acb6-325905ff4cfc\", \"Versatile-Weight-Attack.zip\", 8380565)"
            ]
          },
          "metadata": {}
        }
      ]
    }
  ],
  "metadata": {
    "colab": {
      "name": "Welcome To Colab",
      "provenance": [],
      "gpuType": "T4",
      "include_colab_link": true
    },
    "kernelspec": {
      "display_name": "Python 3",
      "name": "python3"
    },
    "accelerator": "GPU"
  },
  "nbformat": 4,
  "nbformat_minor": 0
}